{
  "cells": [
    {
      "cell_type": "markdown",
      "metadata": {
        "colab_type": "text",
        "id": "view-in-github"
      },
      "source": [
        "<a href=\"https://colab.research.google.com/github/https-deeplearning-ai/tensorflow-2-public/blob/adding_C3/C3/W1/ungraded_labs/C3_W1_Lab_1_tfds_hello_world.ipynb\" target=\"_parent\"><img src=\"https://colab.research.google.com/assets/colab-badge.svg\" alt=\"Open In Colab\"/></a>"
      ]
    },
    {
      "cell_type": "markdown",
      "metadata": {
        "id": "RB_xWPLAO0sV"
      },
      "source": [
        "# TFDS Hello World"
      ]
    },
    {
      "cell_type": "code",
      "execution_count": null,
      "metadata": {
        "id": "zX4Kg8DUTKWO"
      },
      "outputs": [],
      "source": [
        "#@title Licensed under the Apache License, Version 2.0 (the \"License\");\n",
        "# you may not use this file except in compliance with the License.\n",
        "# You may obtain a copy of the License at\n",
        "#\n",
        "# https://www.apache.org/licenses/LICENSE-2.0\n",
        "#\n",
        "# Unless required by applicable law or agreed to in writing, software\n",
        "# distributed under the License is distributed on an \"AS IS\" BASIS,\n",
        "# WITHOUT WARRANTIES OR CONDITIONS OF ANY KIND, either express or implied.\n",
        "# See the License for the specific language governing permissions and\n",
        "# limitations under the License."
      ]
    },
    {
      "cell_type": "markdown",
      "metadata": {
        "id": "To7phQPNO0sY"
      },
      "source": [
        "In this notebook we will take a look at the simple Hello World scenario of TensorFlow Datasets (TFDS). We'll use TFDS to perform the extract, transform, and load processes for the MNIST dataset."
      ]
    },
    {
      "cell_type": "markdown",
      "metadata": {
        "id": "xH42FxIbO0sZ"
      },
      "source": [
        "## Setup\n",
        "\n",
        "We'll start by importing TensorFlow, TensorFlow Datasets, and Matplotlib."
      ]
    },
    {
      "cell_type": "code",
      "execution_count": 1,
      "metadata": {
        "id": "qkngr8bGO0sZ"
      },
      "outputs": [],
      "source": [
        "try:\n",
        "    %tensorflow_version 2.x\n",
        "except:\n",
        "    pass"
      ]
    },
    {
      "cell_type": "code",
      "execution_count": 2,
      "metadata": {
        "id": "TTBSvHcSLBzc"
      },
      "outputs": [
        {
          "name": "stderr",
          "output_type": "stream",
          "text": [
            "C:\\Users\\fahri\\AppData\\Local\\Packages\\PythonSoftwareFoundation.Python.3.11_qbz5n2kfra8p0\\LocalCache\\local-packages\\Python311\\site-packages\\tqdm\\auto.py:21: TqdmWarning: IProgress not found. Please update jupyter and ipywidgets. See https://ipywidgets.readthedocs.io/en/stable/user_install.html\n",
            "  from .autonotebook import tqdm as notebook_tqdm\n"
          ]
        },
        {
          "name": "stdout",
          "output_type": "stream",
          "text": [
            "• Using TensorFlow Version: 2.16.1\n"
          ]
        }
      ],
      "source": [
        "import matplotlib.pyplot as plt\n",
        "\n",
        "import tensorflow as tf\n",
        "import tensorflow_datasets as tfds\n",
        "\n",
        "print(\"\\u2022 Using TensorFlow Version:\", tf.__version__)"
      ]
    },
    {
      "cell_type": "markdown",
      "metadata": {
        "id": "7Zyae8k2O0sa"
      },
      "source": [
        "## Extract - Transform - Load (ETL)\n",
        "\n",
        "Now we'll run the **ETL** code. First, to perform the **Extract** process we use `tfts.load`. This handles everything from downloading the raw data to parsing and splitting it, giving us a dataset. Next, we perform the **Transform** process. In this simple example, our transform process will just consist of shuffling the dataset. Finally, we **Load** one record by using the `take(1)` method. In this case, each record consists of an image and its corresponding label. After loading the record we proceed to plot the image and print its corresponding label. "
      ]
    },
    {
      "cell_type": "code",
      "execution_count": 3,
      "metadata": {
        "id": "AAWkn0UxvhZw"
      },
      "outputs": [
        {
          "name": "stdout",
          "output_type": "stream",
          "text": [
            "\u001b[1mDownloading and preparing dataset Unknown size (download: Unknown size, generated: Unknown size, total: Unknown size) to C:\\Users\\fahri\\tensorflow_datasets\\mnist\\3.0.1...\u001b[0m\n"
          ]
        },
        {
          "name": "stderr",
          "output_type": "stream",
          "text": [
            "Dl Completed...: 0 url [00:00, ? url/s]\n",
            "Dl Completed...:   0%|          | 0/1 [00:00<?, ? url/s]\n",
            "Dl Completed...:   0%|          | 0/2 [00:00<?, ? url/s]\n",
            "Dl Completed...:   0%|          | 0/3 [00:00<?, ? url/s]\n",
            "Dl Completed...:   0%|          | 0/4 [00:00<?, ? url/s]\n",
            "Dl Completed...:   0%|          | 0/4 [00:00<?, ? url/s]\n",
            "Dl Completed...:   0%|          | 0/4 [00:01<?, ? url/s]\n",
            "Dl Completed...:   0%|          | 0/4 [00:01<?, ? url/s]\n",
            "Dl Completed...:  25%|██▌       | 1/4 [00:02<00:06,  2.01s/ url]\n",
            "Dl Completed...:  25%|██▌       | 1/4 [00:02<00:06,  2.01s/ url]\n",
            "\u001b[A\n",
            "Dl Completed...:  25%|██▌       | 1/4 [00:02<00:06,  2.01s/ url]\n",
            "Dl Completed...:  25%|██▌       | 1/4 [00:02<00:06,  2.01s/ url]\n",
            "Dl Completed...:  50%|█████     | 2/4 [00:02<00:04,  2.01s/ url]\n",
            "Dl Completed...:  50%|█████     | 2/4 [00:02<00:04,  2.01s/ url]\n",
            "Dl Completed...:  50%|█████     | 2/4 [00:02<00:04,  2.01s/ url]\n",
            "Dl Completed...:  50%|█████     | 2/4 [00:08<00:04,  2.01s/ url]\n",
            "Dl Completed...:  50%|█████     | 2/4 [00:08<00:04,  2.01s/ url]\n",
            "Dl Completed...:  50%|█████     | 2/4 [00:14<00:04,  2.01s/ url]\n",
            "Dl Completed...:  75%|███████▌  | 3/4 [00:15<00:05,  5.41s/ url]\n",
            "Dl Completed...:  75%|███████▌  | 3/4 [00:15<00:05,  5.41s/ url]\n",
            "\u001b[A\n",
            "Dl Completed...:  75%|███████▌  | 3/4 [00:15<00:05,  5.41s/ url]\n",
            "Dl Completed...:  75%|███████▌  | 3/4 [00:18<00:05,  5.41s/ url]\n",
            "Dl Completed...:  75%|███████▌  | 3/4 [00:22<00:05,  5.41s/ url]\n",
            "Dl Completed...:  75%|███████▌  | 3/4 [00:26<00:05,  5.41s/ url]\n",
            "Dl Completed...:  75%|███████▌  | 3/4 [00:30<00:05,  5.41s/ url]\n",
            "Dl Completed...:  75%|███████▌  | 3/4 [00:34<00:05,  5.41s/ url]\n",
            "Dl Completed...:  75%|███████▌  | 3/4 [00:37<00:05,  5.41s/ url]\n",
            "Dl Completed...:  75%|███████▌  | 3/4 [00:41<00:05,  5.41s/ url]\n",
            "Dl Completed...: 100%|██████████| 4/4 [00:42<00:00, 13.08s/ url]\n",
            "Dl Completed...: 100%|██████████| 4/4 [00:43<00:00, 13.08s/ url]\n",
            "\u001b[A\n",
            "Dl Completed...: 100%|██████████| 4/4 [00:43<00:00, 13.08s/ url]\n",
            "Extraction completed...: 100%|██████████| 4/4 [00:43<00:00, 10.77s/ file]\n",
            "Dl Size...: 100%|██████████| 10/10 [00:43<00:00,  4.31s/ MiB]\n",
            "Dl Completed...: 100%|██████████| 4/4 [00:43<00:00, 10.77s/ url]\n"
          ]
        }
      ],
      "source": [
        "# EXTRACT\n",
        "dataset = tfds.load(name=\"mnist\", split=\"train\")\n",
        "# TRANSFORM\n",
        "dataset.shuffle(100)"
      ]
    },
    {
      "cell_type": "code",
      "execution_count": null,
      "metadata": {
        "id": "bw9EmV8LO0sb"
      },
      "outputs": [],
      "source": [
        "# LOAD\n",
        "for data in dataset.take(1):\n",
        "    image = data[\"image\"].numpy().squeeze()\n",
        "    label = data[\"label\"].numpy()\n",
        "    \n",
        "    print(\"Label: {}\".format(label))\n",
        "    plt.imshow(image, cmap=plt.cm.binary)\n",
        "    plt.show()"
      ]
    },
    {
      "cell_type": "code",
      "execution_count": null,
      "metadata": {
        "id": "bMnzkK2_PI_B"
      },
      "outputs": [],
      "source": []
    }
  ],
  "metadata": {
    "accelerator": "GPU",
    "colab": {
      "collapsed_sections": [],
      "include_colab_link": true,
      "name": "C3_W1_Lab_1_tfds_hello_world.ipynb",
      "provenance": [],
      "toc_visible": true
    },
    "kernelspec": {
      "display_name": "Python 3",
      "language": "python",
      "name": "python3"
    },
    "language_info": {
      "codemirror_mode": {
        "name": "ipython",
        "version": 3
      },
      "file_extension": ".py",
      "mimetype": "text/x-python",
      "name": "python",
      "nbconvert_exporter": "python",
      "pygments_lexer": "ipython3",
      "version": "3.8.5"
    }
  },
  "nbformat": 4,
  "nbformat_minor": 0
}
